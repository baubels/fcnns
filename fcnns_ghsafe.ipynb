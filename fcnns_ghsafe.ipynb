{
 "cells": [
  {
   "cell_type": "markdown",
   "id": "c7d7d370-d24d-4561-9b66-d2f24198700d",
   "metadata": {},
   "source": [
    "### FCNNs"
   ]
  },
  {
   "cell_type": "code",
   "execution_count": 4,
   "id": "5b039972-3578-4bb5-adc5-04cecc4f88fb",
   "metadata": {
    "execution": {
     "iopub.execute_input": "2022-08-26T01:15:15.357841Z",
     "iopub.status.busy": "2022-08-26T01:15:15.357516Z",
     "iopub.status.idle": "2022-08-26T01:15:22.142460Z",
     "shell.execute_reply": "2022-08-26T01:15:22.141383Z",
     "shell.execute_reply.started": "2022-08-26T01:15:15.357810Z"
    },
    "tags": []
   },
   "outputs": [],
   "source": [
    "import numpy as np\n",
    "import tensorflow as tf"
   ]
  },
  {
   "cell_type": "code",
   "execution_count": 5,
   "id": "9d02c5d2-fbaa-4ac7-a11e-8a698c1dd249",
   "metadata": {
    "execution": {
     "iopub.execute_input": "2022-08-26T01:15:22.144169Z",
     "iopub.status.busy": "2022-08-26T01:15:22.143970Z",
     "iopub.status.idle": "2022-08-26T01:15:22.661921Z",
     "shell.execute_reply": "2022-08-26T01:15:22.661421Z",
     "shell.execute_reply.started": "2022-08-26T01:15:22.144148Z"
    },
    "tags": []
   },
   "outputs": [
    {
     "name": "stdout",
     "output_type": "stream",
     "text": [
      "Using tensorflow version 2.7.1.\n",
      "Loaded Fashion-MNIST into x_train, y_train, x_test, y_test.\n",
      "Shapes: x_train: (60000, 28, 28), y_train: (60000, 10), x_test: (10000, 28, 28), y_test: (10000, 10)\n"
     ]
    },
    {
     "name": "stderr",
     "output_type": "stream",
     "text": [
      "2022-08-26 02:15:22.653675: I tensorflow/core/platform/cpu_feature_guard.cc:151] This TensorFlow binary is optimized with oneAPI Deep Neural Network Library (oneDNN) to use the following CPU instructions in performance-critical operations:  SSE4.1 SSE4.2 AVX AVX2 FMA\n",
      "To enable them in other operations, rebuild TensorFlow with the appropriate compiler flags.\n"
     ]
    }
   ],
   "source": [
    "# Fashion-MNIST test dataset\n",
    "\n",
    "def load_data():\n",
    "    import tensorflow as tf\n",
    "    print('Using tensorflow version {}.'.format(tf.__version__))\n",
    "    (x_train, y_train), (x_test, y_test) = tf.keras.datasets.fashion_mnist.load_data()\n",
    "    x_train = x_train.astype('float32') / 255\n",
    "    x_test = x_test.astype('float32') / 255\n",
    "    # convert labels to categorical samples\n",
    "    y_train = tf.keras.utils.to_categorical(y_train, num_classes=10)\n",
    "    y_test = tf.keras.utils.to_categorical(y_test, num_classes=10)\n",
    "    print('Loaded Fashion-MNIST into x_train, y_train, x_test, y_test.')\n",
    "    print('Shapes: x_train: {}, y_train: {}, x_test: {}, y_test: {}'.format(x_train.shape, y_train.shape, x_test.shape, y_test.shape))\n",
    "    return ((x_train, y_train), (x_test, y_test))\n",
    "\n",
    "(x_train, y_train), (x_test, y_test) = load_data()\n",
    "\n",
    "### loading data ###\n",
    "batch_size=32\n",
    "\n",
    "# Prepare the training dataset.\n",
    "train_dataset = tf.data.Dataset.from_tensor_slices((x_train, y_train))\n",
    "train_dataset = train_dataset.shuffle(buffer_size=1024).batch(batch_size)\n",
    "\n",
    "# Prepare the validation dataset.\n",
    "val_dataset = tf.data.Dataset.from_tensor_slices((x_test, y_test))\n",
    "val_dataset = val_dataset.batch(batch_size)"
   ]
  },
  {
   "cell_type": "markdown",
   "id": "a4ac3263-e47a-4053-9e70-9199989a145a",
   "metadata": {},
   "source": [
    "##### Do some visuals on the fourier transform"
   ]
  },
  {
   "cell_type": "code",
   "execution_count": 11,
   "id": "046e3d6e-17b4-473b-bf5f-1572eb6331a6",
   "metadata": {
    "execution": {
     "iopub.execute_input": "2022-08-26T01:19:14.796162Z",
     "iopub.status.busy": "2022-08-26T01:19:14.795897Z",
     "iopub.status.idle": "2022-08-26T01:19:14.805462Z",
     "shell.execute_reply": "2022-08-26T01:19:14.804446Z",
     "shell.execute_reply.started": "2022-08-26T01:19:14.796135Z"
    },
    "tags": []
   },
   "outputs": [],
   "source": [
    "class SpectralConvert(tf.keras.layers.Layer):\n",
    "    # converts a 2d image of the spatial basis into the spectral one\n",
    "    def __init__(self, basis):\n",
    "        super(SpectralConvert, self).__init__()\n",
    "        self.__name__ = 'spatial_spectral_converter'\n",
    "        self.basis = basis\n",
    "\n",
    "    def call(self, inputs):\n",
    "        # converts tensor input in spatial to that of fourier; lowest freq. centered\n",
    "        # or do the inverse!\n",
    "        x = tf.cast(inputs, dtype='complex128')\n",
    "        if self.basis == 'spectral':\n",
    "            return tf.signal.fftshift(tf.signal.fft2d(x))\n",
    "        elif self.basis == 'spatial':\n",
    "            return tf.math.real(tf.signal.ifft2d(tf.signal.ifftshift(x)))\n",
    "\n",
    "\n",
    "class SpectralPooling(tf.keras.layers.Layer):\n",
    "    # applies spectral pooling to the image by reducing higher global frequencies\n",
    "    # huge limitations here on what can be learnt - perhaps high freq. global informations are important priors!\n",
    "    # as an assumption though, this isn't the case\n",
    "\n",
    "    def __init__(self, thresh):\n",
    "        super(SpectralPooling, self).__init__()\n",
    "        self.__name__ = 'spectral_pooler'\n",
    "        self.thresh = thresh # freq. threshold at which to crop spectral decomposition, as a percentage of original size\n",
    "\n",
    "    def build(self, input_shape):\n",
    "        # assumes a square input\n",
    "        x, y = tf.cast(tf.meshgrid([i for i in range(input_shape[-2])], [i for i in range(input_shape[-2])]), dtype='float')\n",
    "        low_pass_filter = tf.math.sqrt((x - input_shape[-2]//2)**2 + (y-input_shape[-2]//2)**2) <= (input_shape[-2]//2)*self.thresh\n",
    "        self.low_pass_filter = tf.expand_dims(tf.cast(low_pass_filter, dtype='complex128'), axis=-1)\n",
    "\n",
    "    def call(self, inputs):\n",
    "        # returns, in the fourier basis, a clipped version of the original\n",
    "        return inputs*self.low_pass_filter\n",
    "\n",
    "# class SpectralConv"
   ]
  },
  {
   "cell_type": "markdown",
   "id": "e4bed6d8-6881-464d-9b53-a121631734f0",
   "metadata": {
    "jp-MarkdownHeadingCollapsed": true,
    "tags": []
   },
   "source": [
    "##### Paper 1: Spectral pooling ops example usage"
   ]
  },
  {
   "cell_type": "code",
   "execution_count": 13,
   "id": "fcc0c461-ccdb-49ad-8ebd-698b28ccc120",
   "metadata": {
    "execution": {
     "iopub.execute_input": "2022-08-26T01:19:48.428141Z",
     "iopub.status.busy": "2022-08-26T01:19:48.427775Z",
     "iopub.status.idle": "2022-08-26T01:19:48.755420Z",
     "shell.execute_reply": "2022-08-26T01:19:48.754700Z",
     "shell.execute_reply.started": "2022-08-26T01:19:48.428116Z"
    },
    "tags": []
   },
   "outputs": [],
   "source": [
    "tf.keras.backend.clear_session() # functional model to be used\n",
    "\n",
    "x_shape, y_shape = x_train[0].shape[0], x_train[0].shape[1]\n",
    "inp0 = tf.keras.Input(shape=(x_shape, y_shape, 1))\n",
    "\n",
    "# convs (doing 3 such)\n",
    "c1 = tf.keras.layers.Conv2D(filters=24, kernel_size=(3,3), padding='same')(inp0)\n",
    "s1 = SpectralConvert('spectral')(c1)\n",
    "p1 = SpectralPooling(thresh=0.8)(s1) # first spectral pooling op in-usage\n",
    "i1 = SpectralConvert('spatial')(p1)\n",
    "# CNN.add(tf.keras.layers.LeakyReLU(alpha=0.01))\n",
    "\n",
    "\n",
    "c2 = tf.keras.layers.Conv2D(filters=24, kernel_size=(3,3), padding='same')(i1)\n",
    "s2 = SpectralConvert('spectral')(c2)\n",
    "p2 = SpectralPooling(thresh=0.8)(s2) # first spectral pooling op in-usage\n",
    "i2 = SpectralConvert('spatial')(p2)\n",
    "# CNN.add(tf.keras.layers.LeakyReLU(alpha=0.01))\n",
    "\n",
    "\n",
    "c3 = tf.keras.layers.Conv2D(filters=24, kernel_size=(3,3), padding='same')(i2)\n",
    "s3 = SpectralConvert('spectral')(c3)\n",
    "p3 = SpectralPooling(thresh=0.8)(s3) # first spectral pooling op in-usage\n",
    "i3 = SpectralConvert('spatial')(p3)\n",
    "# CNN.add(tf.keras.layers.LeakyReLU(alpha=0.01))\n",
    "\n",
    "# feed into dense\n",
    "f1 = tf.keras.layers.Flatten()(i3)\n",
    "d1 = tf.keras.layers.Dense(64, activation='relu')(f1)\n",
    "d2 = tf.keras.layers.Dense(64, activation='relu')(d1)\n",
    "d3 = tf.keras.layers.Dense(10, activation='relu')(d2)\n",
    "\n",
    "# end\n",
    "outp = tf.keras.layers.Softmax()(d3)\n",
    "\n",
    "model = tf.keras.Model([inp0], [outp])\n",
    "loss_fn = tf.keras.losses.CategoricalCrossentropy(from_logits=True)\n",
    "\n",
    "opt = tf.keras.optimizers.SGD(learning_rate=1e-3)\n",
    "model.compile(optimizer=opt, loss=loss_fn)"
   ]
  },
  {
   "cell_type": "code",
   "execution_count": 14,
   "id": "114e3148-58c3-4d56-aa11-0fc295a890c6",
   "metadata": {
    "execution": {
     "iopub.execute_input": "2022-08-26T01:19:48.757179Z",
     "iopub.status.busy": "2022-08-26T01:19:48.756866Z",
     "iopub.status.idle": "2022-08-26T01:19:48.765197Z",
     "shell.execute_reply": "2022-08-26T01:19:48.763918Z",
     "shell.execute_reply.started": "2022-08-26T01:19:48.757152Z"
    },
    "tags": []
   },
   "outputs": [
    {
     "name": "stdout",
     "output_type": "stream",
     "text": [
      "Model: \"model\"\n",
      "_________________________________________________________________\n",
      " Layer (type)                Output Shape              Param #   \n",
      "=================================================================\n",
      " input_1 (InputLayer)        [(None, 28, 28, 1)]       0         \n",
      "                                                                 \n",
      " conv2d (Conv2D)             (None, 28, 28, 24)        240       \n",
      "                                                                 \n",
      " spectral_convert (SpectralC  (None, 28, 28, 24)       0         \n",
      " onvert)                                                         \n",
      "                                                                 \n",
      " spectral_pooling (SpectralP  (None, 28, 28, 24)       0         \n",
      " ooling)                                                         \n",
      "                                                                 \n",
      " spectral_convert_1 (Spectra  (None, 28, 28, 24)       0         \n",
      " lConvert)                                                       \n",
      "                                                                 \n",
      " conv2d_1 (Conv2D)           (None, 28, 28, 24)        5208      \n",
      "                                                                 \n",
      " spectral_convert_2 (Spectra  (None, 28, 28, 24)       0         \n",
      " lConvert)                                                       \n",
      "                                                                 \n",
      " spectral_pooling_1 (Spectra  (None, 28, 28, 24)       0         \n",
      " lPooling)                                                       \n",
      "                                                                 \n",
      " spectral_convert_3 (Spectra  (None, 28, 28, 24)       0         \n",
      " lConvert)                                                       \n",
      "                                                                 \n",
      " conv2d_2 (Conv2D)           (None, 28, 28, 24)        5208      \n",
      "                                                                 \n",
      " spectral_convert_4 (Spectra  (None, 28, 28, 24)       0         \n",
      " lConvert)                                                       \n",
      "                                                                 \n",
      " spectral_pooling_2 (Spectra  (None, 28, 28, 24)       0         \n",
      " lPooling)                                                       \n",
      "                                                                 \n",
      " spectral_convert_5 (Spectra  (None, 28, 28, 24)       0         \n",
      " lConvert)                                                       \n",
      "                                                                 \n",
      " flatten (Flatten)           (None, 18816)             0         \n",
      "                                                                 \n",
      " dense (Dense)               (None, 64)                1204288   \n",
      "                                                                 \n",
      " dense_1 (Dense)             (None, 64)                4160      \n",
      "                                                                 \n",
      " dense_2 (Dense)             (None, 10)                650       \n",
      "                                                                 \n",
      " softmax (Softmax)           (None, 10)                0         \n",
      "                                                                 \n",
      "=================================================================\n",
      "Total params: 1,219,754\n",
      "Trainable params: 1,219,754\n",
      "Non-trainable params: 0\n",
      "_________________________________________________________________\n"
     ]
    }
   ],
   "source": [
    "model.summary()"
   ]
  },
  {
   "cell_type": "code",
   "execution_count": null,
   "id": "536988c0-4e00-4a18-8be3-ababf76053ca",
   "metadata": {},
   "outputs": [],
   "source": [
    "# model.fit"
   ]
  },
  {
   "cell_type": "code",
   "execution_count": 297,
   "id": "74af66ba-2418-4eb7-8262-0559114f72f5",
   "metadata": {
    "execution": {
     "iopub.execute_input": "2022-08-26T00:53:43.259781Z",
     "iopub.status.busy": "2022-08-26T00:53:43.259458Z",
     "iopub.status.idle": "2022-08-26T00:53:43.265187Z",
     "shell.execute_reply": "2022-08-26T00:53:43.263833Z",
     "shell.execute_reply.started": "2022-08-26T00:53:43.259751Z"
    }
   },
   "outputs": [],
   "source": [
    "# read o.g. papers for weight initialisation determinations!"
   ]
  },
  {
   "cell_type": "markdown",
   "id": "49991146-0056-42c3-aa80-e5c0d739bf76",
   "metadata": {},
   "source": [
    "##### Learnable filter passes"
   ]
  },
  {
   "cell_type": "code",
   "execution_count": null,
   "id": "b5a3a9a3-67e5-410c-8453-c01db274ca2b",
   "metadata": {},
   "outputs": [],
   "source": []
  }
 ],
 "metadata": {
  "kernelspec": {
   "display_name": "nets_env",
   "language": "python",
   "name": "nets"
  },
  "language_info": {
   "codemirror_mode": {
    "name": "ipython",
    "version": 3
   },
   "file_extension": ".py",
   "mimetype": "text/x-python",
   "name": "python",
   "nbconvert_exporter": "python",
   "pygments_lexer": "ipython3",
   "version": "3.10.4"
  }
 },
 "nbformat": 4,
 "nbformat_minor": 5
}
